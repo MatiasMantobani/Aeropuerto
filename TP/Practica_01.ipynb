{
  "cells": [
    {
      "cell_type": "markdown",
      "metadata": {
        "id": "view-in-github",
        "colab_type": "text"
      },
      "source": [
        "<a href=\"https://colab.research.google.com/github/MatiasMantobani/Aeropuerto/blob/main/TP/Practica_01.ipynb\" target=\"_parent\"><img src=\"https://colab.research.google.com/assets/colab-badge.svg\" alt=\"Open In Colab\"/></a>"
      ]
    },
    {
      "cell_type": "markdown",
      "metadata": {
        "id": "7lnzhHZRzGkp"
      },
      "source": [
        "# Práctica 001\n",
        "\n",
        "Relacionada a la creación de celdas y programación básica de python.\n",
        "\n",
        "Se deben corregir las celdas de tipo texto según las siguientes \n",
        "directivas:\n",
        "\n",
        "- Título: #\n",
        "- Resaltado: negrita\n",
        "- Código: sección de código\n",
        "\n",
        "`ANTES DE LEER LOS ENUNCIADOS Y RESOLVERLOS REALIZAR LAS CORRECIONES DE LAS CELDAS DE TIPO TEXTO`\n",
        "\n"
      ]
    },
    {
      "cell_type": "code",
      "source": [
        "# celda de prueba"
      ],
      "metadata": {
        "id": "byLSbGtlx5_2"
      },
      "execution_count": null,
      "outputs": []
    },
    {
      "cell_type": "markdown",
      "metadata": {
        "id": "8DeZ7SXu0vfR"
      },
      "source": [
        "# Título: Ejercicio 01\n",
        "\n",
        "Crear un script con la suma de los **n** \n",
        "primeros números naturales y mostrar dicha suma."
      ]
    },
    {
      "cell_type": "code",
      "execution_count": null,
      "metadata": {
        "colab": {
          "base_uri": "https://localhost:8080/"
        },
        "id": "9xGwTNOE_g0b",
        "outputId": "cf1033cf-18e2-4862-b7ed-53c390114415"
      },
      "outputs": [
        {
          "output_type": "stream",
          "name": "stdout",
          "text": [
            "El valor sumado es de:  200000010000000\n"
          ]
        }
      ],
      "source": [
        "#@markdown Ingrese maximo a sumar\n",
        "\n",
        "## solucion rapida para tiempo de respuesta rapida en int\n",
        "max_number = 20000000 #@param {type:\"integer\"}\n",
        "if max_number > 0 and max_number < 20000001:\n",
        "    num = 0\n",
        "    for n in range(max_number+1):\n",
        "        num += n\n",
        "    print(f'El valor sumado es de: ', num) \n",
        "else:\n",
        "    print('El valor ingresado es incorrecto')\n",
        "\n",
        "\n",
        "#el int no se puede pasar a long en markdown"
      ]
    },
    {
      "cell_type": "markdown",
      "metadata": {
        "id": "pGtbL9dk2JSp"
      },
      "source": [
        "# Título: Ejercicio 02\n",
        "\n",
        "Crear un script con la suma de los **n** primeros números naturales impares y mostrar dicha suma."
      ]
    },
    {
      "cell_type": "code",
      "execution_count": null,
      "metadata": {
        "colab": {
          "base_uri": "https://localhost:8080/"
        },
        "id": "n5Ely43P_h25",
        "outputId": "27cffe4e-6c04-4d5a-a88c-c81118afd289"
      },
      "outputs": [
        {
          "output_type": "stream",
          "name": "stdout",
          "text": [
            "El valor sumado es de:  10000000000000000\n"
          ]
        }
      ],
      "source": [
        "#@markdown Ingrese maximo a sumar\n",
        "max_number = 200000000 #@param {type:\"integer\"}\n",
        "\n",
        "if max_number > 0 and max_number < 200000001:\n",
        "    num = 0\n",
        "    for n in range(1, max_number+1, 2):\n",
        "        num += n\n",
        "    print(f'El valor sumado es de: ', num) \n",
        "else:\n",
        "    print('El valor ingresado es incorrecto')\n",
        "\n",
        "\n",
        "#se puede agrandar el numero maximo"
      ]
    },
    {
      "cell_type": "markdown",
      "metadata": {
        "id": "NctoAFVc391b"
      },
      "source": [
        "# Título: Ejercicio 03\n",
        "\n",
        "Crear un script para contar la cantidad de caracteres repetidos, tomar en cuenta que el texto posee mayúsculas y minúsculas. Se debe contar la \n",
        "**letra** \n",
        "y la \n",
        "**cantidad** de veces que aparece en el texto\n",
        ".\n",
        "\n",
        "Código hasta el final:\n",
        "Un especialista en machine learning es responsable de diseñar, construir y entrenar modelos de aprendizaje automático que permitan a las empresas tomar decisiones más informadas y eficientes. Estos especialistas deben ser expertos en matemáticas, estadística y programación, y deben tener un amplio conocimiento de los algoritmos y técnicas de aprendizaje automático. A continuación se detallan las principales tareas que realiza un especialista en machine learning:\n",
        "\n",
        "1 - Recopilación y preparación de datos: Los especialistas en machine learning deben recopilar y preparar grandes cantidades de datos que se utilizarán para entrenar modelos de aprendizaje automático. Esto puede implicar la limpieza y el procesamiento de datos para garantizar que sean precisos y estén en un formato adecuado para el análisis.\n",
        "\n",
        "2 - Desarrollo de modelos de aprendizaje automático: Los especialistas en machine learning deben seleccionar los algoritmos y técnicas de aprendizaje automático adecuados para el problema que están abordando. También deben ajustar y optimizar los modelos para mejorar su precisión y capacidad de generalización.\n",
        "\n",
        "3 - Implementación de modelos de aprendizaje automático: Una vez que se han desarrollado los modelos de aprendizaje automático, los especialistas en machine learning deben implementarlos en un sistema de producción para que puedan ser utilizados para tomar decisiones.\n",
        "\n",
        "4 - Monitoreo y ajuste de modelos: Los modelos de aprendizaje automático deben monitorearse y ajustarse continuamente para garantizar que sigan siendo precisos y relevantes. Los especialistas en machine learning deben estar atentos a los cambios en los datos y en el entorno empresarial que puedan afectar el rendimiento del modelo.\n",
        "\n",
        "5 - Comunicación de resultados: Los especialistas en machine learning deben ser capaces de comunicar de manera efectiva los resultados de sus modelos a otros miembros del equipo y a los clientes. Esto puede implicar la elaboración de informes, presentaciones y demostraciones de los modelos en acción.\n",
        "\n",
        "En resumen, un especialista en machine learning debe tener una sólida comprensión de los fundamentos matemáticos y estadísticos del aprendizaje automático, así como de las herramientas y técnicas de programación necesarias para implementar modelos de manera efectiva. Además, deben ser capaces de trabajar en equipo y comunicarse de manera efectiva para asegurar que los modelos de aprendizaje automático se utilicen de manera óptima en el entorno empresarial."
      ]
    },
    {
      "cell_type": "code",
      "execution_count": null,
      "metadata": {
        "colab": {
          "base_uri": "https://localhost:8080/"
        },
        "id": "rqirJYAjKd4C",
        "outputId": "6e574cdb-95a9-4d90-e061-f6f15efbfa3f"
      },
      "outputs": [
        {
          "output_type": "stream",
          "name": "stdout",
          "text": [
            "\n",
            "SOLO LETRAS\n",
            "\n",
            "e    296\n",
            "a    239\n",
            "s    163\n",
            "n    158\n",
            "i    152\n",
            "o    147\n",
            "r    129\n",
            "d    107\n",
            "t    106\n",
            "c     95\n",
            "l     92\n",
            "m     87\n",
            "p     71\n",
            "u     54\n",
            "y     21\n",
            "b     19\n",
            "z     19\n",
            "g     18\n",
            "j     15\n",
            "q     12\n",
            "h     10\n",
            "f      9\n",
            "L      5\n",
            "v      5\n",
            "E      4\n",
            "U      2\n",
            "A      2\n",
            "R      1\n",
            "D      1\n",
            "T      1\n",
            "I      1\n",
            "x      1\n",
            "M      1\n",
            "C      1\n",
            "dtype: int64\n",
            "sin re y con dicc:   {'e': 296, 'a': 239, 's': 163, 'n': 158, 'i': 152, 'o': 147, 'r': 129, 'd': 107, 't': 106, 'c': 95, 'l': 92, 'm': 87, 'p': 71, 'u': 54, 'y': 21, 'b': 19, 'z': 19, 'g': 18, 'á': 17, 'j': 15, 'ó': 15, 'q': 12, 'h': 10, 'f': 9, 'é': 5, 'L': 5, 'v': 5, 'E': 4, 'í': 3, 'U': 2, 'A': 2, 'ñ': 1, 'x': 1, 'R': 1, 'D': 1, 'T': 1, 'I': 1, 'M': 1, 'C': 1}\n",
            "sin re y con dicc 2: {'e': 296, 'a': 239, 's': 163, 'n': 158, 'i': 152, 'o': 147, 'r': 129, 'd': 107, 't': 106, 'c': 95, 'l': 92, 'm': 87, 'p': 71, 'u': 54, 'y': 21, 'b': 19, 'z': 19, 'g': 18, 'á': 17, 'j': 15, 'ó': 15, 'q': 12, 'h': 10, 'f': 9, 'é': 5, 'L': 5, 'v': 5, 'E': 4, 'í': 3, 'U': 2, 'A': 2, 'ñ': 1, 'x': 1, 'R': 1, 'D': 1, 'T': 1, 'I': 1, 'M': 1, 'C': 1}\n",
            "sin re y con Counter({'e': 296, 'a': 239, 's': 163, 'n': 158, 'i': 152, 'o': 147, 'r': 129, 'd': 107, 't': 106, 'c': 95, 'l': 92, 'm': 87, 'p': 71, 'u': 54, 'y': 21, 'b': 19, 'z': 19, 'g': 18, 'á': 17, 'j': 15, 'ó': 15, 'q': 12, 'h': 10, 'f': 9, 'é': 5, 'L': 5, 'v': 5, 'E': 4, 'í': 3, 'U': 2, 'A': 2, 'ñ': 1, 'x': 1, 'R': 1, 'D': 1, 'T': 1, 'I': 1, 'M': 1, 'C': 1})\n",
            "con re y con dicc:   {'e': 296, 'a': 239, 's': 163, 'n': 158, 'i': 152, 'o': 147, 'r': 129, 'd': 107, 't': 106, 'c': 95, 'l': 92, 'm': 87, 'p': 71, 'u': 54, 'y': 21, 'b': 19, 'z': 19, 'g': 18, 'j': 15, 'q': 12, 'h': 10, 'f': 9, 'L': 5, 'v': 5, 'E': 4, 'U': 2, 'A': 2, 'x': 1, 'R': 1, 'D': 1, 'T': 1, 'I': 1, 'M': 1, 'C': 1}\n",
            "\n",
            "TODOS LOS CARACTERES\n",
            "\n",
            "sin re y con dicc:   {' ': 359, 'e': 296, 'a': 239, 's': 163, 'n': 158, 'i': 152, 'o': 147, 'r': 129, 'd': 107, 't': 106, 'c': 95, 'l': 92, 'm': 87, 'p': 71, 'u': 54, 'y': 21, 'b': 19, 'z': 19, 'g': 18, 'á': 17, 'j': 15, 'ó': 15, '\\n': 14, '.': 13, 'q': 12, 'h': 10, 'f': 9, ',': 8, ':': 6, 'é': 5, '-': 5, 'L': 5, 'v': 5, 'E': 4, 'í': 3, 'U': 2, 'A': 2, 'ñ': 1, 'x': 1, '1': 1, 'R': 1, '2': 1, 'D': 1, 'T': 1, '3': 1, 'I': 1, '4': 1, 'M': 1, '5': 1, 'C': 1}\n",
            "sin re y con Counter({' ': 359, 'e': 296, 'a': 239, 's': 163, 'n': 158, 'i': 152, 'o': 147, 'r': 129, 'd': 107, 't': 106, 'c': 95, 'l': 92, 'm': 87, 'p': 71, 'u': 54, 'y': 21, 'b': 19, 'z': 19, 'g': 18, 'á': 17, 'j': 15, 'ó': 15, '\\n': 14, '.': 13, 'q': 12, 'h': 10, 'f': 9, ',': 8, ':': 6, 'é': 5, '-': 5, 'L': 5, 'v': 5, 'E': 4, 'í': 3, 'U': 2, 'A': 2, 'ñ': 1, 'x': 1, '1': 1, 'R': 1, '2': 1, 'D': 1, 'T': 1, '3': 1, 'I': 1, '4': 1, 'M': 1, '5': 1, 'C': 1})\n",
            "con re y con dicc:   {' ': 359, 'e': 296, 'a': 239, 's': 163, 'n': 158, 'i': 152, 'o': 147, 'r': 129, 'd': 107, 't': 106, 'c': 95, 'l': 92, 'm': 87, 'p': 71, 'u': 54, 'y': 21, 'b': 19, 'z': 19, 'g': 18, 'á': 17, 'j': 15, 'ó': 15, '\\n': 14, '.': 13, 'q': 12, 'h': 10, 'f': 9, ',': 8, ':': 6, 'é': 5, '-': 5, 'L': 5, 'v': 5, 'E': 4, 'í': 3, 'U': 2, 'A': 2, 'ñ': 1, 'x': 1, '1': 1, 'R': 1, '2': 1, 'D': 1, 'T': 1, '3': 1, 'I': 1, '4': 1, 'M': 1, '5': 1, 'C': 1}\n",
            "\n",
            "con re y con counter no tiene sentido hacer por como funcionan, el counter te hace lo del re\n",
            "\n"
          ]
        }
      ],
      "source": [
        "texto = \"\"\"\n",
        "Un especialista en machine learning es responsable de diseñar, construir y entrenar modelos de aprendizaje automático que permitan a las empresas tomar decisiones más informadas y eficientes. Estos especialistas deben ser expertos en matemáticas, estadística y programación, y deben tener un amplio conocimiento de los algoritmos y técnicas de aprendizaje automático. A continuación se detallan las principales tareas que realiza un especialista en machine learning:\n",
        "\n",
        "1 - Recopilación y preparación de datos: Los especialistas en machine learning deben recopilar y preparar grandes cantidades de datos que se utilizarán para entrenar modelos de aprendizaje automático. Esto puede implicar la limpieza y el procesamiento de datos para garantizar que sean precisos y estén en un formato adecuado para el análisis.\n",
        "\n",
        "2 - Desarrollo de modelos de aprendizaje automático: Los especialistas en machine learning deben seleccionar los algoritmos y técnicas de aprendizaje automático adecuados para el problema que están abordando. También deben ajustar y optimizar los modelos para mejorar su precisión y capacidad de generalización.\n",
        "\n",
        "3 - Implementación de modelos de aprendizaje automático: Una vez que se han desarrollado los modelos de aprendizaje automático, los especialistas en machine learning deben implementarlos en un sistema de producción para que puedan ser utilizados para tomar decisiones.\n",
        "\n",
        "4 - Monitoreo y ajuste de modelos: Los modelos de aprendizaje automático deben monitorearse y ajustarse continuamente para garantizar que sigan siendo precisos y relevantes. Los especialistas en machine learning deben estar atentos a los cambios en los datos y en el entorno empresarial que puedan afectar el rendimiento del modelo.\n",
        "\n",
        "5 - Comunicación de resultados: Los especialistas en machine learning deben ser capaces de comunicar de manera efectiva los resultados de sus modelos a otros miembros del equipo y a los clientes. Esto puede implicar la elaboración de informes, presentaciones y demostraciones de los modelos en acción.\n",
        "\n",
        "En resumen, un especialista en machine learning debe tener una sólida comprensión de los fundamentos matemáticos y estadísticos del aprendizaje automático, así como de las herramientas y técnicas de programación necesarias para implementar modelos de manera efectiva. Además, deben ser capaces de trabajar en equipo y comunicarse de manera efectiva para asegurar que los modelos de aprendizaje automático se utilicen de manera óptima en el entorno empresarial.\n",
        "\"\"\"\n",
        "\n",
        "# contamos todos los caracteres separando minus y mayus\n",
        "\n",
        "# texto = texto.lower() # por si queremos pasar a minus\n",
        "\n",
        "print(\"\\nSOLO LETRAS\\n\")\n",
        "\n",
        "# con Serie y re (manera buena)\n",
        "import pandas as pd\n",
        "import re\n",
        "chars = re.findall(\"[a-zA-Z]\", texto) #separa en letras mayus y minus\n",
        "character_count = pd.Series(chars).value_counts()\n",
        "print(character_count)\n",
        "\n",
        "# con dicc (manera mala)\n",
        "text = list(texto)\n",
        "diccionario = {}\n",
        "caracteres = [',', '.', ' ','\\n','-','_',':','º','1','2','3','4','5','6','7','8','9','0']   # faltan mas caracteres especiales\n",
        "for char in text:\n",
        "    if char not in caracteres: \n",
        "        if char in diccionario:\n",
        "            diccionario[char] += 1\n",
        "        else:\n",
        "            diccionario[char] = 1\n",
        "diccionario_ordenado = dict(sorted(diccionario.items(), key=lambda x: x[1], reverse=True))\n",
        "print(f\"{'sin re y con dicc:':<21}{diccionario_ordenado}\")\n",
        "\n",
        "\n",
        "# con dicc sacando numeros (manera regular)\n",
        "text = list(texto)\n",
        "diccionario = {}\n",
        "caracteres = [',', '.', ' ','\\n','-','_',':','º']   # faltan mas caracteres especiales\n",
        "for char in text:\n",
        "    if char not in caracteres:\n",
        "        if char.isalpha():\n",
        "            if char in diccionario:\n",
        "                diccionario[char] += 1\n",
        "            else:\n",
        "                diccionario[char] = 1\n",
        "diccionario_ordenado = dict(sorted(diccionario.items(), key=lambda x: x[1], reverse=True))\n",
        "print(f\"{'sin re y con dicc 2:':<21}{diccionario_ordenado}\")\n",
        "\n",
        "\n",
        "# con counter (menera buena)\n",
        "from collections import Counter\n",
        "# caracteres = ['Ç','ª','º'] # agregar los que isalpha() deja pasar\n",
        "contador = Counter(char for char in texto if char not in caracteres and char.isalpha())\n",
        "print(f\"{'sin re y con ':<12}{contador}\")\n",
        "\n",
        "\n",
        "# con re y con dicc (manera mala)\n",
        "import re\n",
        "chars = re.findall(\"[a-zA-Z]\", texto)   # solo para alfabeto ingles\n",
        "counts = dict()\n",
        "for char in chars:\n",
        "  if char in counts:\n",
        "    counts[char] += 1\n",
        "  else:\n",
        "    counts[char] = 1\n",
        "sorted_dict = dict(sorted(counts.items(), key=lambda x: x[1], reverse=True))\n",
        "print(f\"{'con re y con dicc:':20} {sorted_dict}\")\n",
        "\n",
        "\n",
        "print(\"\\nTODOS LOS CARACTERES\\n\")\n",
        "\n",
        "\n",
        "# con dicc\n",
        "text = list(texto)\n",
        "diccionario = {}\n",
        "for char in text:\n",
        "    if char: \n",
        "        if char in diccionario:\n",
        "            diccionario[char] += 1\n",
        "        else:\n",
        "            diccionario[char] = 1\n",
        "diccionario_ordenado = dict(sorted(diccionario.items(), key=lambda x: x[1], reverse=True))\n",
        "print(f\"{'sin re y con dicc:':<21}{diccionario_ordenado}\")\n",
        "\n",
        "\n",
        "# con counter\n",
        "from collections import Counter\n",
        "contador = Counter(char for char in texto)\n",
        "print(f\"{'sin re y con':12} {contador}\")\n",
        "\n",
        "\n",
        "# con re y con dicc\n",
        "import re\n",
        "chars = re.findall(\".|\\n\", texto) #separa en todos los caracteres\n",
        "counts = dict()\n",
        "for char in chars:\n",
        "  if char in counts:\n",
        "    counts[char] += 1\n",
        "  else:\n",
        "    counts[char] = 1\n",
        "sorted_dict = dict(sorted(counts.items(), key=lambda x: x[1], reverse=True))\n",
        "print(f\"{'con re y con dicc:':20} {sorted_dict}\")\n",
        "\n",
        "print(\"\\ncon re y con counter no tiene sentido hacer por como funcionan, el counter te hace lo del re\\n\")"
      ]
    },
    {
      "cell_type": "markdown",
      "metadata": {
        "id": "RqHGu4c87TDZ"
      },
      "source": [
        "# Título: Ejercicio 04\n",
        "\n",
        "Crear un script con **n** filas donde se muestre la siguientes estructura.\n",
        "\n",
        "Código hasta el final:\n",
        "\n",
        "```\n",
        "1\n",
        "1 1\n",
        "1 2 1\n",
        "1 3 3 1\n",
        "1 4 6 4 1\n",
        "```\n",
        "\n",
        "\n",
        ".....\n"
      ]
    },
    {
      "cell_type": "code",
      "execution_count": null,
      "metadata": {
        "colab": {
          "base_uri": "https://localhost:8080/"
        },
        "id": "OLBYsyZM_nnS",
        "outputId": "2389de6d-2df6-47eb-e482-07192405f1df"
      },
      "outputs": [
        {
          "output_type": "stream",
          "name": "stdout",
          "text": [
            "1\n",
            "1 1\n",
            "1 2 1\n",
            "1 3 3 1\n",
            "1 4 6 4 1\n"
          ]
        }
      ],
      "source": [
        "# Set the number of rows to generate\n",
        "num_rows = 5\n",
        "\n",
        "# Initialize the triangle with the first row\n",
        "triangle = [[1]]\n",
        "\n",
        "# Generate each subsequent row\n",
        "for i in range(1, num_rows):\n",
        "    # Create a new row with the first element set to 1\n",
        "    row = [1]\n",
        "    \n",
        "    # Fill in the remaining elements based on the previous row\n",
        "    for j in range(1, i):\n",
        "        row.append(triangle[i-1][j-1] + triangle[i-1][j])\n",
        "    \n",
        "    # Add the last element to the row\n",
        "    row.append(1)\n",
        "    \n",
        "    # Add the row to the triangle\n",
        "    triangle.append(row)\n",
        "\n",
        "# Print the triangle\n",
        "for row in triangle:\n",
        "    print(' '.join(map(str, row)))"
      ]
    },
    {
      "cell_type": "markdown",
      "metadata": {
        "id": "hj1yCfGa7205"
      },
      "source": [
        "# Título: Ejercicio 05\n",
        "\n",
        "Crear un script para verificar si un texto es palíndromo o no. Para esta comprobación no se deben tener en cuenta los espacios en blanco.\n",
        "\n",
        "Resaltado: Es palíndromo: \n",
        "Código: eva usaba rimel y le miraba suave\n",
        "\n",
        "Resaltado: No es palíndromo: \n",
        "Código: puro chile es tu cielo azulado\n"
      ]
    },
    {
      "cell_type": "code",
      "execution_count": null,
      "metadata": {
        "colab": {
          "base_uri": "https://localhost:8080/"
        },
        "id": "NMlCj0TZ_oId",
        "outputId": "d696a567-c2c6-4795-cc55-c58f471b87e0"
      },
      "outputs": [
        {
          "output_type": "stream",
          "name": "stdout",
          "text": [
            "Es palindromo\n",
            "\n",
            " \n",
            "\n",
            "Es palindromo\n"
          ]
        }
      ],
      "source": [
        "text_input = \"arriba la birra\" #@param {type:\"string\"}\n",
        "\n",
        "# primer forma\n",
        "import re\n",
        "chars = re.findall(\"\\w\", text_input)\n",
        "\n",
        "mitad = int((len(chars))/2)\n",
        "valido = int(len(chars) - 1)\n",
        "\n",
        "for i in range(0, mitad + 1):\n",
        "    if chars[i] == chars[valido - i]:\n",
        "        if i == mitad:\n",
        "            print(f'Es palindromo')  \n",
        "    else:\n",
        "        print('No es palindro')\n",
        "        break\n",
        "\n",
        "print(\"\\n \\n\")\n",
        "\n",
        "# segunda forma\n",
        "text_input = text_input.replace(\" \", \"\")\n",
        "if text_input == text_input[::-1]:  # da vuelta el string\n",
        "    print(\"Es palindromo\")\n",
        "else:\n",
        "    print(\"No es palindromo\")"
      ]
    },
    {
      "cell_type": "markdown",
      "metadata": {
        "id": "UGtwrdLy8_ZL"
      },
      "source": [
        "# Título: Ejercicio 06\n",
        "\n",
        "Crear un script que dado un texto me informe la cantidad de repeticiones de cada caracter con soporte key sentive. Luego cifrarlo con las cantidades totales.\n",
        "\n",
        "Código hasta el final:\n",
        "Por ejemplo: ala\n",
        "  a = 2\n",
        "  l = 1\n",
        "  212 (ala)"
      ]
    },
    {
      "cell_type": "code",
      "execution_count": null,
      "metadata": {
        "colab": {
          "base_uri": "https://localhost:8080/"
        },
        "id": "mgOeJ_i1_ohV",
        "outputId": "9cf7c9b4-4aa8-4b36-fc81-766df8d06f05"
      },
      "outputs": [
        {
          "output_type": "stream",
          "name": "stdout",
          "text": [
            "Counter({'~': 4, '&': 3, '/': 3, '€': 3, 'm': 2, ' ': 2, '%': 2, '(': 2, ')': 2, '=': 2, '?': 2, '¿': 2, '*': 2, '^': 2, '¨': 2, 'Ç': 2, '_': 2, ':': 2, ';': 2, '{': 2, '}': 2, ']': 2, '[': 2, '¬': 2, '#': 2, '|': 2, '\\\\': 2, 'ª': 2, 'º': 2, 'l': 1, 'o': 1, 'r': 1, 'e': 1, 'i': 1, 'p': 1, 's': 1, 'u': 1, '!': 1, '\"': 1, '·': 1, '$': 1, '@': 1, '2': 1})\n",
            "~    4\n",
            "&    3\n",
            "€    3\n",
            "/    3\n",
            "(    2\n",
            ";    2\n",
            ":    2\n",
            "_    2\n",
            "Ç    2\n",
            "¨    2\n",
            "^    2\n",
            "]    2\n",
            "¿    2\n",
            "?    2\n",
            "=    2\n",
            ")    2\n",
            "*    2\n",
            "}    2\n",
            "%    2\n",
            "[    2\n",
            "¬    2\n",
            "#    2\n",
            "|    2\n",
            "\\    2\n",
            "m    2\n",
            "ª    2\n",
            "º    2\n",
            "{    2\n",
            "@    1\n",
            "l    1\n",
            "o    1\n",
            "$    1\n",
            "·    1\n",
            "\"    1\n",
            "!    1\n",
            "u    1\n",
            "s    1\n",
            "p    1\n",
            "i    1\n",
            "e    1\n",
            "r    1\n",
            "2    1\n",
            "dtype: int64\n"
          ]
        }
      ],
      "source": [
        "text = \"lorem ipsum !\\\"\\xB7$%&/()=?\\xBF*^\\xA8\\xC7_:;{}][\\xAC\\xAC\\u20AC~#@|\\\\\\xAA\\xBA}{][_:;\\xC7\\xA8*^\\xBF?=)(//&&%\\xBA\\xAA\\\\|2#~~\\u20AC\\u20AC~\" #@param {type:\"string\"}\n",
        "\n",
        "# PRIMER MANERA\n",
        "from collections import Counter\n",
        "contador = Counter(char for char in text)\n",
        "print(contador)\n",
        "\n",
        "# SEGUNDA MANERA\n",
        "import re, pandas as pd\n",
        "chars = re.findall(r'\\S', text) #any character that is not a space, tab, or newline character.\n",
        "character_count = pd.Series(chars).value_counts()\n",
        "print(character_count)"
      ]
    }
  ],
  "metadata": {
    "colab": {
      "provenance": [],
      "include_colab_link": true
    },
    "gpuClass": "standard",
    "kernelspec": {
      "display_name": "Python 3",
      "name": "python3"
    },
    "language_info": {
      "codemirror_mode": {
        "name": "ipython",
        "version": 3
      },
      "file_extension": ".py",
      "mimetype": "text/x-python",
      "name": "python",
      "nbconvert_exporter": "python",
      "pygments_lexer": "ipython3",
      "version": "3.11.0"
    }
  },
  "nbformat": 4,
  "nbformat_minor": 0
}